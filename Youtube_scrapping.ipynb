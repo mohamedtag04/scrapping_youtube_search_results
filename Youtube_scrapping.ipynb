{
  "cells": [
    {
      "cell_type": "code",
      "execution_count": 7,
      "metadata": {
        "colab": {
          "base_uri": "https://localhost:8080/"
        },
        "id": "6hzDQxYUNXyT",
        "outputId": "489b28e7-66eb-4667-ea59-182651c77fc3"
      },
      "outputs": [
        {
          "name": "stdout",
          "output_type": "stream",
          "text": [
            "Looking in indexes: https://pypi.org/simple, https://us-python.pkg.dev/colab-wheels/public/simple/\n",
            "Requirement already satisfied: google-search-results in /usr/local/lib/python3.9/dist-packages (2.4.2)\n",
            "Requirement already satisfied: requests in /usr/local/lib/python3.9/dist-packages (from google-search-results) (2.27.1)\n",
            "Requirement already satisfied: idna<4,>=2.5 in /usr/local/lib/python3.9/dist-packages (from requests->google-search-results) (3.4)\n",
            "Requirement already satisfied: certifi>=2017.4.17 in /usr/local/lib/python3.9/dist-packages (from requests->google-search-results) (2022.12.7)\n",
            "Requirement already satisfied: charset-normalizer~=2.0.0 in /usr/local/lib/python3.9/dist-packages (from requests->google-search-results) (2.0.12)\n",
            "Requirement already satisfied: urllib3<1.27,>=1.21.1 in /usr/local/lib/python3.9/dist-packages (from requests->google-search-results) (1.26.15)\n"
          ]
        }
      ],
      "source": [
        "pip install google-search-results"
      ]
    },
    {
      "cell_type": "code",
      "execution_count": 8,
      "metadata": {
        "id": "0py7apPe__qY"
      },
      "outputs": [],
      "source": [
        "from serpapi import GoogleSearch\n",
        "import requests as req\n",
        "from bs4 import BeautifulSoup"
      ]
    },
    {
      "cell_type": "code",
      "execution_count": 9,
      "metadata": {
        "id": "ALm718a4wSnG"
      },
      "outputs": [],
      "source": [
        "params = {\n",
        "  \"api_key\": \"Your API key\",\n",
        "  \"engine\": \"youtube\",\n",
        "  \"q\" : \"low carb kitchen\",\n",
        "  \"search_query\":\"low carb kitchen\"\n",
        "}\n",
        "\n",
        "search = GoogleSearch(params)\n",
        "results = search.get_dict()\n"
      ]
    },
    {
      "cell_type": "code",
      "execution_count": 10,
      "metadata": {
        "colab": {
          "base_uri": "https://localhost:8080/"
        },
        "id": "j7g7gm93OjbQ",
        "outputId": "8deddf56-cb7d-4428-ed6f-f43259174ee2"
      },
      "outputs": [
        {
          "name": "stdout",
          "output_type": "stream",
          "text": [
            "1-What I Eat In A Day | I lost 135 Pounds with these meals!                                      :Low Carb Love\n",
            "2-Welcome to The Low Carb Cook's Channel. #Keto #LowCarbRecipes                                  :The Low Carb Cook\n",
            "3-I Moved! My New Kitchen Tour 2023                                                              :Low Carb Love\n",
            "4-Kitchen Redo with Target and Amazon | Before and After                                         :Low Carb Love\n",
            "5-1 Minute Fudge Recipe! Keto/Low Carb, Sugar Free                                               :CJsKetoKitchen.com\n",
            "6-Easy Zero Carb Carnivore Meatballs - Deliciously Simple                                        :CJsKetoKitchen.com\n",
            "7-Zero Carb Foods (And no sugar) For Rapid Fat Loss With Keto With Health Coach Tara             :Tara's Keto Kitchen\n",
            "8-10 Keto One-Pan Recipes with Easy Cleanup                                                      :RuledMe\n",
            "9-Quick And Delicious Keto Dinner Rolls (Nut Free And Gluten Free No Yeast)                      :Janet's Delicious Low Carb Kitchen\n",
            "10-New Perfected Keto Flour! ONLY 7 Carbs Per Cup!!! Low Carb Keto Flour!                         :Victoria's Keto Kitchen\n",
            "11-10 Easy Low-Carb Dinners • Tasty Recipes                                                       :Tasty Recipes\n",
            "12-Low Carb Bisquick | Quick and Easy | Keto Kitchen Essentials #keto #ketorecipes #lowcarb #lowdiet:CJsKetoKitchen.com\n",
            "13-KETO Self-Rising Bread Flour ~ Gluten free Low carb & Sugar free                               :Victoria's Keto Kitchen\n",
            "14-Full Size Keto Chocolate Cake! Less than 1 carb per slice! Gluten free                         :Victoria's Keto Kitchen\n",
            "15-Perfected Keto Flour | An All-Purpose White Flour Substitute GLUTEN FREE By Victoria's Keto Kitchen:Victoria's Keto Kitchen\n",
            "16-Keto Yeast Bread that RISES & is Gluten Free! BUT HOW???                                       :Victoria's Keto Kitchen\n",
            "17-The Good The Bad and The Tortilla 🌮 Low-Carb, Keto, & Gluten-Free                              :Black Tie Kitchen\n",
            "18-Keto Chili | The Best Keto Chili l Low Carb | Delicious                                        :CJsKetoKitchen.com\n"
          ]
        }
      ],
      "source": [
        "#selecting the videos only from the page's scrapping results\n",
        "movie_results = results[\"video_results\"]\n",
        "\n",
        "#sprinting the video title and the publishing channel for each video\n",
        "for order, i in enumerate(movie_results):\n",
        "  title = i['title']\n",
        "  channel = i['channel'][\"name\"]\n",
        "  space = ' ' * (95-len(title))\n",
        "  print(f\"{order+1}-{title}{space}:{channel}\")\n",
        "    \n"
      ]
    },
    {
      "cell_type": "code",
      "execution_count": 11,
      "metadata": {
        "colab": {
          "base_uri": "https://localhost:8080/"
        },
        "id": "HVgDk_Mt4Jqb",
        "outputId": "cc88670f-d5cd-45c4-cf1e-1b688d67029a"
      },
      "outputs": [
        {
          "name": "stdout",
          "output_type": "stream",
          "text": [
            "Low Carb Love, the channel that published the first video in the search appeared exactly 3 times in the results\n"
          ]
        }
      ],
      "source": [
        "appearances = 0 #counter\n",
        "first_channel = movie_results[0]['channel']['name']\n",
        "\n",
        "#counting the appearences of the channel that posted the first video in the results\n",
        "for i in movie_results:\n",
        "  if i['channel']['name'] == first_channel:\n",
        "    appearances+=1\n",
        "\n",
        "print( f'{first_channel}, the channel that published the first video in the search appeared exactly {appearances} times in the results')\n"
      ]
    },
    {
      "cell_type": "code",
      "execution_count": 12,
      "metadata": {
        "id": "BIBReOTC-B8d"
      },
      "outputs": [],
      "source": [
        "second_video_URL= movie_results[1][\"link\"]\n",
        "request = req.get(second_video_URL) #requesting the link of the second video in the results\n",
        "html_doc = request.text #html file of the page\n",
        "soup = BeautifulSoup(html_doc,'html.parser') \n",
        "meta = soup.select(\"meta\") #all meta contents\n",
        "og_image = soup.find(\"meta\", {\"property\": \"og:image\"}) #images\n",
        "image_url = og_image.get('content')\n",
        "img_data= req.get(image_url).content\n",
        "\n",
        "with open('img.jpg', 'wb') as handler: \n",
        "      handler.write(img_data)\n"
      ]
    }
  ],
  "metadata": {
    "colab": {
      "provenance": []
    },
    "kernelspec": {
      "display_name": "Python 3",
      "name": "python3"
    },
    "language_info": {
      "name": "python",
      "version": "3.8.2"
    }
  },
  "nbformat": 4,
  "nbformat_minor": 0
}
